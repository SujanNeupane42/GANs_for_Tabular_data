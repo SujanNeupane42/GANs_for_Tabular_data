{
 "cells": [
  {
   "cell_type": "markdown",
   "metadata": {},
   "source": [
    "# Some preprocessing to implement tanh in generator"
   ]
  },
  {
   "cell_type": "code",
   "execution_count": null,
   "metadata": {},
   "outputs": [],
   "source": [
    "from sklearn.preprocessing import StandardScaler\n",
    "import numpy as np\n",
    "scaler = StandardScaler()\n",
    "# # 4 samples/observations and 2 variables/features\n",
    "# data = np.array([[0, 0], [1, 0], [0, 1], [1, 1]])\n",
    "# \n",
    "# scaled_data = scaler.fit_transform(data)"
   ]
  },
  {
   "cell_type": "code",
   "execution_count": 20,
   "metadata": {},
   "outputs": [],
   "source": [
    "# normalized_df=(df-df.mean())/df.std()\n",
    "df = pd.read_csv('train.csv')\n",
    "df[\"label\"] = df.Survived\n",
    "df = df.drop([\"PassengerId\", \"Survived\", \"Name\", \"Ticket\", \"Cabin\"], axis=1)\n",
    "# handling missing values\n",
    "median_age = df.Age.median()\n",
    "mode_embarked = df.Embarked.mode()[0]\n",
    "df = df.fillna({\"Age\": median_age, \"Embarked\": mode_embarked})\n",
    "df.Sex = df.Sex.replace({'male':0,'female':1})\n",
    "df.Embarked = df.Embarked.replace({'S':0,'C':1,'Q':2})"
   ]
  },
  {
   "cell_type": "code",
   "execution_count": null,
   "metadata": {},
   "outputs": [],
   "source": [
    "Fare = df[['Fare']]"
   ]
  },
  {
   "cell_type": "code",
   "execution_count": null,
   "metadata": {
    "scrolled": false
   },
   "outputs": [],
   "source": [
    "Fare = scaler.fit_transform(Fare).reshape(-1)"
   ]
  },
  {
   "cell_type": "code",
   "execution_count": null,
   "metadata": {},
   "outputs": [],
   "source": [
    "scaler.mean_"
   ]
  },
  {
   "cell_type": "code",
   "execution_count": null,
   "metadata": {},
   "outputs": [],
   "source": [
    "np.sqrt(scaler.var_)"
   ]
  },
  {
   "cell_type": "code",
   "execution_count": null,
   "metadata": {},
   "outputs": [],
   "source": [
    "pd.DataFrame({'scaled': Fare}).describe()"
   ]
  },
  {
   "cell_type": "code",
   "execution_count": null,
   "metadata": {},
   "outputs": [],
   "source": [
    "Fare.min(), Fare.max()"
   ]
  },
  {
   "cell_type": "code",
   "execution_count": null,
   "metadata": {},
   "outputs": [],
   "source": []
  },
  {
   "cell_type": "code",
   "execution_count": null,
   "metadata": {},
   "outputs": [],
   "source": []
  },
  {
   "cell_type": "markdown",
   "metadata": {},
   "source": [
    "# Importing the dependencies"
   ]
  },
  {
   "cell_type": "code",
   "execution_count": 1,
   "metadata": {},
   "outputs": [],
   "source": [
    "import torch\n",
    "from torch import nn\n",
    "import pandas as pd\n",
    "import numpy as np\n",
    "import math\n",
    "import matplotlib.pyplot as plt\n",
    "from sklearn.preprocessing import StandardScaler\n",
    "from sklearn.linear_model import LogisticRegression\n",
    "from sklearn.metrics import classification_report\n",
    "import seaborn as sns"
   ]
  },
  {
   "cell_type": "markdown",
   "metadata": {},
   "source": [
    "# Creating pytorch dataset and dataloader"
   ]
  },
  {
   "cell_type": "code",
   "execution_count": 2,
   "metadata": {},
   "outputs": [],
   "source": [
    "from torch.utils.data import Dataset\n",
    "from torch.utils.data import DataLoader"
   ]
  },
  {
   "cell_type": "code",
   "execution_count": 3,
   "metadata": {},
   "outputs": [],
   "source": [
    "class MyDataset(Dataset):\n",
    " \n",
    "  def __init__(self):\n",
    "    df = pd.read_csv('train.csv')\n",
    "    df[\"label\"] = df.Survived\n",
    "    df = df[df['label'] == 1].reset_index(drop = True)\n",
    "    df = df.drop([\"PassengerId\", \"Survived\", \"Name\", \"Ticket\", \"Cabin\"], axis=1)\n",
    "    # handling missing values\n",
    "    median_age = df.Age.median()\n",
    "    mode_embarked = df.Embarked.mode()[0]\n",
    "    df = df.fillna({\"Age\": median_age, \"Embarked\": mode_embarked})\n",
    "    df.Sex = df.Sex.replace({'male':0,'female':1})\n",
    "    df.Embarked = df.Embarked.replace({'S':0,'C':1,'Q':2})\n",
    " \n",
    "    x = df.iloc[:, 0:7].values\n",
    "    y = df.iloc[:, -1].values\n",
    " \n",
    "    self.x_train=torch.tensor(x,dtype=torch.float32)\n",
    "    self.y_train=torch.tensor(y,dtype=torch.float32)\n",
    " \n",
    "  def __len__(self):\n",
    "    return len(self.y_train)\n",
    "   \n",
    "  def __getitem__(self,idx):\n",
    "    return self.x_train[idx],self.y_train[idx]\n",
    "\n",
    "train_ds = MyDataset()"
   ]
  },
  {
   "cell_type": "code",
   "execution_count": 4,
   "metadata": {},
   "outputs": [],
   "source": [
    "batch_size = 64\n",
    "\n",
    "\n",
    "train_dl = DataLoader(train_ds, batch_size, shuffle=True, num_workers=0, pin_memory=True)"
   ]
  },
  {
   "cell_type": "code",
   "execution_count": 5,
   "metadata": {},
   "outputs": [
    {
     "data": {
      "text/plain": [
       "device(type='cuda')"
      ]
     },
     "execution_count": 5,
     "metadata": {},
     "output_type": "execute_result"
    }
   ],
   "source": [
    "def get_default_device():\n",
    "    \"\"\"Pick GPU if available, else CPU\"\"\"\n",
    "    if torch.cuda.is_available():\n",
    "        return torch.device('cuda')\n",
    "    else:\n",
    "        return torch.device('cpu')\n",
    "    \n",
    "def to_device(data, device):\n",
    "    \"\"\"Move tensor(s) to chosen device\"\"\"\n",
    "    if isinstance(data, (list,tuple)):\n",
    "        return [to_device(x, device) for x in data]\n",
    "    return data.to(device, non_blocking=True)\n",
    "\n",
    "class DeviceDataLoader():\n",
    "    \"\"\"Wrap a dataloader to move data to a device\"\"\"\n",
    "    def __init__(self, dl, device):\n",
    "        self.dl = dl\n",
    "        self.device = device\n",
    "        \n",
    "    def __iter__(self):\n",
    "        \"\"\"Yield a batch of data after moving it to device\"\"\"\n",
    "        for b in self.dl: \n",
    "            yield to_device(b, self.device)\n",
    "\n",
    "    def __len__(self):\n",
    "        \"\"\"Number of batches\"\"\"\n",
    "        return len(self.dl)\n",
    "\n",
    "device = get_default_device()\n",
    "device"
   ]
  },
  {
   "cell_type": "code",
   "execution_count": 6,
   "metadata": {},
   "outputs": [],
   "source": [
    "train_dl = DeviceDataLoader(train_dl, device)"
   ]
  },
  {
   "cell_type": "code",
   "execution_count": 7,
   "metadata": {},
   "outputs": [
    {
     "data": {
      "text/plain": [
       "device(type='cuda')"
      ]
     },
     "execution_count": 7,
     "metadata": {},
     "output_type": "execute_result"
    }
   ],
   "source": [
    "train_dl.device"
   ]
  },
  {
   "cell_type": "markdown",
   "metadata": {},
   "source": [
    "# Creating generator and discriminator models"
   ]
  },
  {
   "cell_type": "markdown",
   "metadata": {},
   "source": [
    "<b> Generator Architecture"
   ]
  },
  {
   "cell_type": "code",
   "execution_count": 8,
   "metadata": {},
   "outputs": [],
   "source": [
    "latent_size = 7"
   ]
  },
  {
   "cell_type": "code",
   "execution_count": 9,
   "metadata": {},
   "outputs": [],
   "source": [
    "class Generator(nn.Module):\n",
    "    def __init__(self):\n",
    "        super().__init__()\n",
    "        self.model = nn.Sequential(\n",
    "            nn.Linear(7, 16),\n",
    "            nn.ReLU(),\n",
    "            nn.Linear(16, 32),\n",
    "            nn.ReLU(),\n",
    "            nn.Linear(32, 7),\n",
    "#             nn.Linear(latent_size, 1024),\n",
    "#             nn.ReLU(),\n",
    "#             nn.Linear(1024, 512),\n",
    "#             nn.ReLU(inplace = True),\n",
    "#             nn.Dropout2d(0.2),\n",
    "            \n",
    "#             nn.Linear(512, 256),\n",
    "#             nn.ReLU(inplace = True),\n",
    "#             nn.Dropout2d(0.2),\n",
    "            \n",
    "#             nn.Linear(256, 128),\n",
    "#             nn.ReLU(inplace = True),\n",
    "#             nn.Dropout2d(0.2),\n",
    "            \n",
    "#             nn.Linear(128, 64),\n",
    "#             nn.ReLU(inplace = True),\n",
    "#             nn.Dropout2d(0.2),\n",
    "            \n",
    "#             nn.Linear(64, 32),\n",
    "#             nn.ReLU(inplace = True),\n",
    "#             nn.Dropout2d(0.2),\n",
    "            \n",
    "#             nn.Linear(32, 16),\n",
    "#             nn.ReLU(inplace = True),\n",
    "#             nn.Dropout2d(0.2),\n",
    "            \n",
    "#             nn.Linear(16, 7),\n",
    "        )\n",
    "\n",
    "    def forward(self, x):\n",
    "        output = self.model(x)\n",
    "        return output\n",
    "\n",
    "generator = to_device(Generator(), device)"
   ]
  },
  {
   "cell_type": "markdown",
   "metadata": {},
   "source": [
    "<b> Discriminator Architecture"
   ]
  },
  {
   "cell_type": "code",
   "execution_count": 10,
   "metadata": {},
   "outputs": [],
   "source": [
    "n_features = 7"
   ]
  },
  {
   "cell_type": "code",
   "execution_count": 26,
   "metadata": {},
   "outputs": [],
   "source": [
    "class Discriminator(nn.Module):\n",
    "    def __init__(self):\n",
    "        super().__init__()\n",
    "        self.model = nn.Sequential(\n",
    "            nn.Linear(7, 256),\n",
    "            nn.ReLU(),\n",
    "            nn.Dropout(0.3),\n",
    "            nn.Linear(256, 128),\n",
    "            nn.ReLU(),\n",
    "            nn.Dropout(0.3),\n",
    "            nn.Linear(128, 64),\n",
    "            nn.ReLU(),\n",
    "            nn.Dropout(0.3),\n",
    "            nn.Linear(64, 1),\n",
    "            nn.Sigmoid(),\n",
    "#             nn.Linear(n_features, 1024),\n",
    "#             nn.ReLU(),\n",
    "#             nn.Linear(1024, 512),\n",
    "#             nn.ReLU(inplace = True),\n",
    "#             nn.Dropout2d(0.2),\n",
    "            \n",
    "#             nn.Linear(512, 256),\n",
    "#             nn.ReLU(inplace = True),\n",
    "#             nn.Dropout2d(0.2),\n",
    "            \n",
    "#             nn.Linear(256, 128),\n",
    "#             nn.ReLU(inplace = True),\n",
    "#             nn.Dropout2d(0.2),\n",
    "            \n",
    "#             nn.Linear(128, 64),\n",
    "#             nn.ReLU(inplace = True),\n",
    "#             nn.Dropout2d(0.2),\n",
    "            \n",
    "#             nn.Linear(64, 32),\n",
    "#             nn.ReLU(inplace = True),\n",
    "#             nn.Dropout2d(0.2),\n",
    "            \n",
    "#             nn.Linear(32, 16),\n",
    "#             nn.ReLU(inplace = True),\n",
    "#             nn.Dropout2d(0.2),\n",
    "            \n",
    "#             nn.Linear(16, 1),\n",
    "#             nn.Sigmoid()\n",
    "        )\n",
    "\n",
    "    def forward(self, x):\n",
    "        output = self.model(x)\n",
    "        return output\n",
    "    \n",
    "discriminator = to_device(Discriminator(), device)"
   ]
  },
  {
   "cell_type": "markdown",
   "metadata": {},
   "source": [
    "# Generator and discriminator training methodology"
   ]
  },
  {
   "cell_type": "code",
   "execution_count": 27,
   "metadata": {},
   "outputs": [],
   "source": [
    "def reset_grad():\n",
    "    d_optimizer.zero_grad()\n",
    "    g_optimizer.zero_grad()\n",
    "\n",
    "def train_discriminator(real_data, opt_d, cur_batch_size):\n",
    "    # Reset gradients\n",
    "    opt_d.zero_grad()\n",
    "    \n",
    "    # real data ko labels set to 1\n",
    "    real_labels = torch.ones((cur_batch_size),  device = device)\n",
    "    # passing real images through discriminator\n",
    "    real_preds = discriminator(real_data).reshape(-1)\n",
    "    d_loss_real = criterion(real_preds, real_labels)\n",
    "    \n",
    "    \n",
    "    # fake data ko labels set to 0\n",
    "    fake_labels = torch.zeros((cur_batch_size),  device = device)\n",
    "    # random noise from uniform distribution\n",
    "    latent_space_samples = torch.randn((cur_batch_size, latent_size),  device = device)\n",
    "    \n",
    "    generated_data = generator(latent_space_samples)  # fake data generated by generator\n",
    "    fake_preds = discriminator(generated_data).reshape(-1)\n",
    "    d_loss_fake = criterion(fake_preds, fake_labels)\n",
    "    \n",
    "    loss = d_loss_real + d_loss_fake\n",
    "\n",
    "    # Compute gradients\n",
    "    loss.backward()\n",
    "    # Adjust the parameters using backprop\n",
    "    opt_d.step()\n",
    "    \n",
    "        \n",
    "    return loss"
   ]
  },
  {
   "cell_type": "code",
   "execution_count": 28,
   "metadata": {},
   "outputs": [],
   "source": [
    "def train_generator(opt_g, cur_batch_size):\n",
    "    # Clear generator gradients\n",
    "    opt_g.zero_grad()\n",
    "    \n",
    "    # fake data ko labels set to 1\n",
    "    fake_targets = torch.ones((cur_batch_size),  device = device)\n",
    "    \n",
    "    # random noise from uniform distribution\n",
    "    latent_space_samples = torch.randn((cur_batch_size, latent_size),  device = device)\n",
    "    generated_data = generator(latent_space_samples)  # fake data generated by generator\n",
    "    fake_preds = discriminator(generated_data).reshape(-1)\n",
    "    g_loss = criterion(fake_preds, fake_targets)\n",
    "\n",
    "    g_loss.backward()\n",
    "    opt_g.step()\n",
    "    return g_loss"
   ]
  },
  {
   "cell_type": "markdown",
   "metadata": {},
   "source": [
    "# Training Loop"
   ]
  },
  {
   "cell_type": "code",
   "execution_count": 29,
   "metadata": {
    "id": "vCPTDJ2YjPQd"
   },
   "outputs": [],
   "source": [
    "lr = 0.001\n",
    "epochs = 100\n",
    "# nn.BCELoss() use nagarne, kinaki yo method ma builtin sigmoid function use hudena, [0,1] ma leudena outputs lai\n",
    "# so, F.binary_cross_entropy use garda best, tara maile sigmoid use garxu esma\n",
    "criterion = nn.BCELoss()"
   ]
  },
  {
   "cell_type": "code",
   "execution_count": 30,
   "metadata": {
    "id": "ltdcF4MgjRkf"
   },
   "outputs": [],
   "source": [
    "opt_d = torch.optim.Adam(discriminator.parameters(), lr=lr)\n",
    "opt_g = torch.optim.Adam(generator.parameters(), lr=lr)"
   ]
  },
  {
   "cell_type": "code",
   "execution_count": 31,
   "metadata": {},
   "outputs": [],
   "source": [
    "def fit(epochs, lr, opt_d, opt_g):\n",
    "    torch.cuda.empty_cache()\n",
    "    \n",
    "    # Losses & scores\n",
    "    losses_g = []\n",
    "    losses_d = []\n",
    "\n",
    "    \n",
    "    # Create optimizers\n",
    "#     opt_d = torch.optim.Adam(discriminator.parameters(), lr=lr, betas=(0.5, 0.999))\n",
    "#     opt_g = torch.optim.Adam(generator.parameters(), lr=lr, betas=(0.5, 0.999))\n",
    "    total_step = len(train_dl)\n",
    "    for epoch in range(epochs):\n",
    "        for i, (real_data, real_labels) in enumerate(train_dl):\n",
    "            cur_batch_size = real_data.shape[0]\n",
    "\n",
    "            # Train the discriminator and generator\n",
    "            d_loss = train_discriminator(real_data, opt_d, cur_batch_size)\n",
    "            g_loss = train_generator(opt_g, cur_batch_size)\n",
    "\n",
    "            losses_d.append(d_loss.item())\n",
    "            losses_g.append(g_loss.item())\n",
    "            \n",
    "            print('Epoch [{}/{}], Step [{}/{}], d_loss: {:.4f}, g_loss: {:.4f}'\n",
    "                  .format(epoch, epochs, i+1, total_step, d_loss.item(), g_loss.item()))\n",
    "\n",
    "    return losses_g, losses_d"
   ]
  },
  {
   "cell_type": "code",
   "execution_count": 32,
   "metadata": {
    "scrolled": true
   },
   "outputs": [
    {
     "name": "stdout",
     "output_type": "stream",
     "text": [
      "Epoch [0/100], Step [1/6], d_loss: 1.5923, g_loss: 0.6230\n",
      "Epoch [0/100], Step [2/6], d_loss: 1.2864, g_loss: 0.7079\n",
      "Epoch [0/100], Step [3/6], d_loss: 1.2429, g_loss: 0.7603\n",
      "Epoch [0/100], Step [4/6], d_loss: 1.0065, g_loss: 0.8413\n",
      "Epoch [0/100], Step [5/6], d_loss: 1.1455, g_loss: 0.9333\n",
      "Epoch [0/100], Step [6/6], d_loss: 1.2343, g_loss: 0.9250\n",
      "Epoch [1/100], Step [1/6], d_loss: 1.1519, g_loss: 0.8591\n",
      "Epoch [1/100], Step [2/6], d_loss: 1.0602, g_loss: 0.8432\n",
      "Epoch [1/100], Step [3/6], d_loss: 0.9430, g_loss: 0.8037\n",
      "Epoch [1/100], Step [4/6], d_loss: 1.0590, g_loss: 0.8490\n",
      "Epoch [1/100], Step [5/6], d_loss: 1.0182, g_loss: 0.9217\n",
      "Epoch [1/100], Step [6/6], d_loss: 1.2133, g_loss: 0.8948\n",
      "Epoch [2/100], Step [1/6], d_loss: 1.0289, g_loss: 0.8722\n",
      "Epoch [2/100], Step [2/6], d_loss: 1.0576, g_loss: 0.9312\n",
      "Epoch [2/100], Step [3/6], d_loss: 1.1766, g_loss: 0.9166\n",
      "Epoch [2/100], Step [4/6], d_loss: 0.9382, g_loss: 0.9106\n",
      "Epoch [2/100], Step [5/6], d_loss: 1.0887, g_loss: 0.9434\n",
      "Epoch [2/100], Step [6/6], d_loss: 1.0946, g_loss: 0.8952\n",
      "Epoch [3/100], Step [1/6], d_loss: 1.2003, g_loss: 0.8810\n",
      "Epoch [3/100], Step [2/6], d_loss: 0.9757, g_loss: 0.8480\n",
      "Epoch [3/100], Step [3/6], d_loss: 1.1218, g_loss: 0.8416\n",
      "Epoch [3/100], Step [4/6], d_loss: 1.0562, g_loss: 0.7613\n",
      "Epoch [3/100], Step [5/6], d_loss: 1.1353, g_loss: 0.7570\n",
      "Epoch [3/100], Step [6/6], d_loss: 1.0939, g_loss: 0.7474\n",
      "Epoch [4/100], Step [1/6], d_loss: 1.0858, g_loss: 0.7454\n",
      "Epoch [4/100], Step [2/6], d_loss: 1.0598, g_loss: 0.7505\n",
      "Epoch [4/100], Step [3/6], d_loss: 0.9788, g_loss: 0.7930\n",
      "Epoch [4/100], Step [4/6], d_loss: 1.0734, g_loss: 0.7916\n",
      "Epoch [4/100], Step [5/6], d_loss: 1.0065, g_loss: 0.7767\n",
      "Epoch [4/100], Step [6/6], d_loss: 0.9687, g_loss: 0.7717\n",
      "Epoch [5/100], Step [1/6], d_loss: 1.1109, g_loss: 0.7882\n",
      "Epoch [5/100], Step [2/6], d_loss: 1.0272, g_loss: 0.7855\n",
      "Epoch [5/100], Step [3/6], d_loss: 1.1115, g_loss: 0.8194\n",
      "Epoch [5/100], Step [4/6], d_loss: 0.9857, g_loss: 0.8354\n",
      "Epoch [5/100], Step [5/6], d_loss: 1.0135, g_loss: 0.7898\n",
      "Epoch [5/100], Step [6/6], d_loss: 0.9789, g_loss: 0.7946\n",
      "Epoch [6/100], Step [1/6], d_loss: 1.0082, g_loss: 0.7906\n",
      "Epoch [6/100], Step [2/6], d_loss: 1.0543, g_loss: 0.7923\n",
      "Epoch [6/100], Step [3/6], d_loss: 1.0848, g_loss: 0.8352\n",
      "Epoch [6/100], Step [4/6], d_loss: 1.0089, g_loss: 0.7924\n",
      "Epoch [6/100], Step [5/6], d_loss: 1.0194, g_loss: 0.7800\n",
      "Epoch [6/100], Step [6/6], d_loss: 1.0335, g_loss: 0.8035\n",
      "Epoch [7/100], Step [1/6], d_loss: 1.0238, g_loss: 0.8146\n",
      "Epoch [7/100], Step [2/6], d_loss: 1.0358, g_loss: 0.7946\n",
      "Epoch [7/100], Step [3/6], d_loss: 0.9332, g_loss: 0.7664\n",
      "Epoch [7/100], Step [4/6], d_loss: 1.0663, g_loss: 0.7751\n",
      "Epoch [7/100], Step [5/6], d_loss: 1.0217, g_loss: 0.8042\n",
      "Epoch [7/100], Step [6/6], d_loss: 0.9871, g_loss: 0.7716\n",
      "Epoch [8/100], Step [1/6], d_loss: 0.9499, g_loss: 0.7702\n",
      "Epoch [8/100], Step [2/6], d_loss: 0.9761, g_loss: 0.8066\n",
      "Epoch [8/100], Step [3/6], d_loss: 1.0417, g_loss: 0.7933\n",
      "Epoch [8/100], Step [4/6], d_loss: 0.9787, g_loss: 0.8123\n",
      "Epoch [8/100], Step [5/6], d_loss: 1.0033, g_loss: 0.8203\n",
      "Epoch [8/100], Step [6/6], d_loss: 1.0390, g_loss: 0.8247\n",
      "Epoch [9/100], Step [1/6], d_loss: 0.9478, g_loss: 0.8288\n",
      "Epoch [9/100], Step [2/6], d_loss: 0.8789, g_loss: 0.8769\n",
      "Epoch [9/100], Step [3/6], d_loss: 0.9083, g_loss: 0.8375\n",
      "Epoch [9/100], Step [4/6], d_loss: 0.9207, g_loss: 0.8887\n",
      "Epoch [9/100], Step [5/6], d_loss: 0.8584, g_loss: 0.8928\n",
      "Epoch [9/100], Step [6/6], d_loss: 0.9476, g_loss: 0.8550\n",
      "Epoch [10/100], Step [1/6], d_loss: 0.8844, g_loss: 0.8783\n",
      "Epoch [10/100], Step [2/6], d_loss: 0.9252, g_loss: 0.9407\n",
      "Epoch [10/100], Step [3/6], d_loss: 0.8338, g_loss: 0.9280\n",
      "Epoch [10/100], Step [4/6], d_loss: 0.8346, g_loss: 0.8856\n",
      "Epoch [10/100], Step [5/6], d_loss: 0.7739, g_loss: 0.9493\n",
      "Epoch [10/100], Step [6/6], d_loss: 0.9169, g_loss: 1.0102\n",
      "Epoch [11/100], Step [1/6], d_loss: 0.8202, g_loss: 0.9704\n",
      "Epoch [11/100], Step [2/6], d_loss: 0.8657, g_loss: 0.9088\n",
      "Epoch [11/100], Step [3/6], d_loss: 0.6986, g_loss: 1.0407\n",
      "Epoch [11/100], Step [4/6], d_loss: 0.9117, g_loss: 1.0697\n",
      "Epoch [11/100], Step [5/6], d_loss: 0.8439, g_loss: 1.0239\n",
      "Epoch [11/100], Step [6/6], d_loss: 0.9771, g_loss: 1.0284\n",
      "Epoch [12/100], Step [1/6], d_loss: 0.9193, g_loss: 1.0603\n",
      "Epoch [12/100], Step [2/6], d_loss: 0.9647, g_loss: 0.9270\n",
      "Epoch [12/100], Step [3/6], d_loss: 0.8588, g_loss: 0.9387\n",
      "Epoch [12/100], Step [4/6], d_loss: 0.8338, g_loss: 0.9638\n",
      "Epoch [12/100], Step [5/6], d_loss: 0.9408, g_loss: 0.9267\n",
      "Epoch [12/100], Step [6/6], d_loss: 0.7817, g_loss: 0.9183\n",
      "Epoch [13/100], Step [1/6], d_loss: 1.1577, g_loss: 0.8398\n",
      "Epoch [13/100], Step [2/6], d_loss: 1.0263, g_loss: 0.8981\n",
      "Epoch [13/100], Step [3/6], d_loss: 1.0835, g_loss: 1.0004\n",
      "Epoch [13/100], Step [4/6], d_loss: 1.2141, g_loss: 0.9217\n",
      "Epoch [13/100], Step [5/6], d_loss: 0.9638, g_loss: 0.9096\n",
      "Epoch [13/100], Step [6/6], d_loss: 1.8587, g_loss: 0.8438\n",
      "Epoch [14/100], Step [1/6], d_loss: 1.2696, g_loss: 0.7666\n",
      "Epoch [14/100], Step [2/6], d_loss: 1.1699, g_loss: 0.7325\n",
      "Epoch [14/100], Step [3/6], d_loss: 1.1975, g_loss: 0.6637\n",
      "Epoch [14/100], Step [4/6], d_loss: 1.1154, g_loss: 0.6512\n",
      "Epoch [14/100], Step [5/6], d_loss: 1.1430, g_loss: 0.6456\n",
      "Epoch [14/100], Step [6/6], d_loss: 1.0395, g_loss: 0.6491\n",
      "Epoch [15/100], Step [1/6], d_loss: 1.0701, g_loss: 0.7437\n",
      "Epoch [15/100], Step [2/6], d_loss: 1.0511, g_loss: 0.7848\n",
      "Epoch [15/100], Step [3/6], d_loss: 1.0498, g_loss: 0.7418\n",
      "Epoch [15/100], Step [4/6], d_loss: 1.1136, g_loss: 0.7797\n",
      "Epoch [15/100], Step [5/6], d_loss: 1.0709, g_loss: 0.8020\n",
      "Epoch [15/100], Step [6/6], d_loss: 0.9867, g_loss: 0.8084\n",
      "Epoch [16/100], Step [1/6], d_loss: 1.0210, g_loss: 0.8033\n",
      "Epoch [16/100], Step [2/6], d_loss: 1.0885, g_loss: 0.7597\n",
      "Epoch [16/100], Step [3/6], d_loss: 0.9823, g_loss: 0.7865\n",
      "Epoch [16/100], Step [4/6], d_loss: 1.0011, g_loss: 0.7602\n",
      "Epoch [16/100], Step [5/6], d_loss: 0.9742, g_loss: 0.7590\n",
      "Epoch [16/100], Step [6/6], d_loss: 1.0727, g_loss: 0.6948\n",
      "Epoch [17/100], Step [1/6], d_loss: 0.9017, g_loss: 0.7741\n",
      "Epoch [17/100], Step [2/6], d_loss: 0.9036, g_loss: 0.8037\n",
      "Epoch [17/100], Step [3/6], d_loss: 0.9537, g_loss: 0.8230\n",
      "Epoch [17/100], Step [4/6], d_loss: 0.9144, g_loss: 0.8225\n",
      "Epoch [17/100], Step [5/6], d_loss: 0.9311, g_loss: 0.8523\n",
      "Epoch [17/100], Step [6/6], d_loss: 0.9042, g_loss: 0.8858\n",
      "Epoch [18/100], Step [1/6], d_loss: 0.8961, g_loss: 0.9115\n",
      "Epoch [18/100], Step [2/6], d_loss: 0.8150, g_loss: 0.9492\n",
      "Epoch [18/100], Step [3/6], d_loss: 0.7513, g_loss: 0.9314\n",
      "Epoch [18/100], Step [4/6], d_loss: 0.7748, g_loss: 0.9975\n",
      "Epoch [18/100], Step [5/6], d_loss: 0.8304, g_loss: 1.1011\n",
      "Epoch [18/100], Step [6/6], d_loss: 0.7193, g_loss: 1.0962\n",
      "Epoch [19/100], Step [1/6], d_loss: 0.6639, g_loss: 1.0877\n",
      "Epoch [19/100], Step [2/6], d_loss: 0.6926, g_loss: 1.1021\n",
      "Epoch [19/100], Step [3/6], d_loss: 0.7418, g_loss: 1.1196\n",
      "Epoch [19/100], Step [4/6], d_loss: 0.7410, g_loss: 1.1149\n",
      "Epoch [19/100], Step [5/6], d_loss: 0.7061, g_loss: 1.1435\n",
      "Epoch [19/100], Step [6/6], d_loss: 0.6690, g_loss: 1.1358\n",
      "Epoch [20/100], Step [1/6], d_loss: 0.5811, g_loss: 1.2783\n",
      "Epoch [20/100], Step [2/6], d_loss: 0.6207, g_loss: 1.2299\n",
      "Epoch [20/100], Step [3/6], d_loss: 0.6929, g_loss: 1.3506\n",
      "Epoch [20/100], Step [4/6], d_loss: 0.7943, g_loss: 1.3810\n",
      "Epoch [20/100], Step [5/6], d_loss: 0.8623, g_loss: 1.2869\n",
      "Epoch [20/100], Step [6/6], d_loss: 0.7276, g_loss: 1.2105\n",
      "Epoch [21/100], Step [1/6], d_loss: 0.7852, g_loss: 1.4706\n",
      "Epoch [21/100], Step [2/6], d_loss: 0.8106, g_loss: 1.1945\n",
      "Epoch [21/100], Step [3/6], d_loss: 0.9232, g_loss: 1.2653\n",
      "Epoch [21/100], Step [4/6], d_loss: 0.9963, g_loss: 1.1117\n",
      "Epoch [21/100], Step [5/6], d_loss: 0.8826, g_loss: 0.9334\n",
      "Epoch [21/100], Step [6/6], d_loss: 1.1933, g_loss: 0.9010\n",
      "Epoch [22/100], Step [1/6], d_loss: 1.4632, g_loss: 0.6933\n",
      "Epoch [22/100], Step [2/6], d_loss: 1.3108, g_loss: 0.5859\n",
      "Epoch [22/100], Step [3/6], d_loss: 1.3211, g_loss: 0.5645\n",
      "Epoch [22/100], Step [4/6], d_loss: 1.3498, g_loss: 0.6454\n",
      "Epoch [22/100], Step [5/6], d_loss: 1.2090, g_loss: 0.6503\n",
      "Epoch [22/100], Step [6/6], d_loss: 1.1868, g_loss: 0.7066\n",
      "Epoch [23/100], Step [1/6], d_loss: 1.1579, g_loss: 0.6841\n",
      "Epoch [23/100], Step [2/6], d_loss: 1.2173, g_loss: 0.8013\n",
      "Epoch [23/100], Step [3/6], d_loss: 1.2006, g_loss: 0.8213\n",
      "Epoch [23/100], Step [4/6], d_loss: 1.0896, g_loss: 0.8018\n",
      "Epoch [23/100], Step [5/6], d_loss: 1.1917, g_loss: 0.7857\n",
      "Epoch [23/100], Step [6/6], d_loss: 1.0433, g_loss: 0.8596\n",
      "Epoch [24/100], Step [1/6], d_loss: 1.0089, g_loss: 0.8453\n",
      "Epoch [24/100], Step [2/6], d_loss: 1.0006, g_loss: 0.8730\n",
      "Epoch [24/100], Step [3/6], d_loss: 1.0184, g_loss: 0.8803\n",
      "Epoch [24/100], Step [4/6], d_loss: 0.9358, g_loss: 0.8553\n",
      "Epoch [24/100], Step [5/6], d_loss: 0.9645, g_loss: 0.9143\n",
      "Epoch [24/100], Step [6/6], d_loss: 0.8848, g_loss: 0.8861\n",
      "Epoch [25/100], Step [1/6], d_loss: 0.8728, g_loss: 0.9259\n",
      "Epoch [25/100], Step [2/6], d_loss: 0.9137, g_loss: 0.9549\n",
      "Epoch [25/100], Step [3/6], d_loss: 0.8661, g_loss: 1.0133\n",
      "Epoch [25/100], Step [4/6], d_loss: 0.8026, g_loss: 1.0460\n",
      "Epoch [25/100], Step [5/6], d_loss: 0.6970, g_loss: 1.1016\n",
      "Epoch [25/100], Step [6/6], d_loss: 0.7116, g_loss: 1.1237\n"
     ]
    },
    {
     "name": "stdout",
     "output_type": "stream",
     "text": [
      "Epoch [26/100], Step [1/6], d_loss: 0.7508, g_loss: 1.1909\n",
      "Epoch [26/100], Step [2/6], d_loss: 0.7185, g_loss: 1.2714\n",
      "Epoch [26/100], Step [3/6], d_loss: 0.5710, g_loss: 1.3871\n",
      "Epoch [26/100], Step [4/6], d_loss: 0.6519, g_loss: 1.3436\n",
      "Epoch [26/100], Step [5/6], d_loss: 0.6423, g_loss: 1.5283\n",
      "Epoch [26/100], Step [6/6], d_loss: 0.4855, g_loss: 1.5032\n",
      "Epoch [27/100], Step [1/6], d_loss: 0.7030, g_loss: 1.3719\n",
      "Epoch [27/100], Step [2/6], d_loss: 0.4892, g_loss: 1.4478\n",
      "Epoch [27/100], Step [3/6], d_loss: 0.6599, g_loss: 1.5469\n",
      "Epoch [27/100], Step [4/6], d_loss: 0.6731, g_loss: 1.5349\n",
      "Epoch [27/100], Step [5/6], d_loss: 0.5419, g_loss: 1.4180\n",
      "Epoch [27/100], Step [6/6], d_loss: 0.6834, g_loss: 1.4919\n",
      "Epoch [28/100], Step [1/6], d_loss: 0.4972, g_loss: 1.4512\n",
      "Epoch [28/100], Step [2/6], d_loss: 0.6555, g_loss: 1.5756\n",
      "Epoch [28/100], Step [3/6], d_loss: 0.5857, g_loss: 1.4512\n",
      "Epoch [28/100], Step [4/6], d_loss: 0.7808, g_loss: 1.6042\n",
      "Epoch [28/100], Step [5/6], d_loss: 0.7144, g_loss: 1.7396\n",
      "Epoch [28/100], Step [6/6], d_loss: 0.6925, g_loss: 1.7627\n",
      "Epoch [29/100], Step [1/6], d_loss: 0.8506, g_loss: 1.3220\n",
      "Epoch [29/100], Step [2/6], d_loss: 1.1250, g_loss: 1.5316\n",
      "Epoch [29/100], Step [3/6], d_loss: 1.3330, g_loss: 1.2685\n",
      "Epoch [29/100], Step [4/6], d_loss: 1.0218, g_loss: 1.0806\n",
      "Epoch [29/100], Step [5/6], d_loss: 1.1737, g_loss: 0.9451\n",
      "Epoch [29/100], Step [6/6], d_loss: 1.2384, g_loss: 0.9456\n",
      "Epoch [30/100], Step [1/6], d_loss: 1.5757, g_loss: 0.8923\n",
      "Epoch [30/100], Step [2/6], d_loss: 1.3068, g_loss: 0.8576\n",
      "Epoch [30/100], Step [3/6], d_loss: 1.4242, g_loss: 0.7905\n",
      "Epoch [30/100], Step [4/6], d_loss: 1.4802, g_loss: 0.7512\n",
      "Epoch [30/100], Step [5/6], d_loss: 1.2375, g_loss: 0.6929\n",
      "Epoch [30/100], Step [6/6], d_loss: 1.3304, g_loss: 0.6994\n",
      "Epoch [31/100], Step [1/6], d_loss: 1.2111, g_loss: 0.6518\n",
      "Epoch [31/100], Step [2/6], d_loss: 1.3084, g_loss: 0.6874\n",
      "Epoch [31/100], Step [3/6], d_loss: 1.2303, g_loss: 0.6690\n",
      "Epoch [31/100], Step [4/6], d_loss: 1.2162, g_loss: 0.6641\n",
      "Epoch [31/100], Step [5/6], d_loss: 1.1609, g_loss: 0.6350\n",
      "Epoch [31/100], Step [6/6], d_loss: 1.1015, g_loss: 0.7523\n",
      "Epoch [32/100], Step [1/6], d_loss: 1.1778, g_loss: 0.7796\n",
      "Epoch [32/100], Step [2/6], d_loss: 1.1174, g_loss: 0.7549\n",
      "Epoch [32/100], Step [3/6], d_loss: 1.0878, g_loss: 0.7815\n",
      "Epoch [32/100], Step [4/6], d_loss: 1.0433, g_loss: 0.7960\n",
      "Epoch [32/100], Step [5/6], d_loss: 1.0191, g_loss: 0.8160\n",
      "Epoch [32/100], Step [6/6], d_loss: 1.2200, g_loss: 0.7988\n",
      "Epoch [33/100], Step [1/6], d_loss: 1.0773, g_loss: 0.7861\n",
      "Epoch [33/100], Step [2/6], d_loss: 1.0487, g_loss: 0.7894\n",
      "Epoch [33/100], Step [3/6], d_loss: 1.0199, g_loss: 0.7723\n",
      "Epoch [33/100], Step [4/6], d_loss: 1.0658, g_loss: 0.7948\n",
      "Epoch [33/100], Step [5/6], d_loss: 0.9941, g_loss: 0.7341\n",
      "Epoch [33/100], Step [6/6], d_loss: 0.9858, g_loss: 0.7974\n",
      "Epoch [34/100], Step [1/6], d_loss: 1.0254, g_loss: 0.7387\n",
      "Epoch [34/100], Step [2/6], d_loss: 0.9417, g_loss: 0.7363\n",
      "Epoch [34/100], Step [3/6], d_loss: 0.9550, g_loss: 0.7370\n",
      "Epoch [34/100], Step [4/6], d_loss: 0.9686, g_loss: 0.7255\n",
      "Epoch [34/100], Step [5/6], d_loss: 1.0109, g_loss: 0.7721\n",
      "Epoch [34/100], Step [6/6], d_loss: 0.9793, g_loss: 0.7177\n",
      "Epoch [35/100], Step [1/6], d_loss: 0.9490, g_loss: 0.7396\n",
      "Epoch [35/100], Step [2/6], d_loss: 0.8384, g_loss: 0.8248\n",
      "Epoch [35/100], Step [3/6], d_loss: 0.8836, g_loss: 0.8369\n",
      "Epoch [35/100], Step [4/6], d_loss: 0.9338, g_loss: 0.9137\n",
      "Epoch [35/100], Step [5/6], d_loss: 0.9044, g_loss: 0.9690\n",
      "Epoch [35/100], Step [6/6], d_loss: 0.9322, g_loss: 1.0769\n",
      "Epoch [36/100], Step [1/6], d_loss: 0.7553, g_loss: 1.0434\n",
      "Epoch [36/100], Step [2/6], d_loss: 0.8592, g_loss: 1.0463\n",
      "Epoch [36/100], Step [3/6], d_loss: 0.8073, g_loss: 1.1050\n",
      "Epoch [36/100], Step [4/6], d_loss: 0.7213, g_loss: 1.1114\n",
      "Epoch [36/100], Step [5/6], d_loss: 0.7135, g_loss: 1.1485\n",
      "Epoch [36/100], Step [6/6], d_loss: 0.5198, g_loss: 1.1542\n",
      "Epoch [37/100], Step [1/6], d_loss: 0.6313, g_loss: 1.1656\n",
      "Epoch [37/100], Step [2/6], d_loss: 0.6487, g_loss: 1.2625\n",
      "Epoch [37/100], Step [3/6], d_loss: 0.6908, g_loss: 1.3892\n",
      "Epoch [37/100], Step [4/6], d_loss: 0.6624, g_loss: 1.2482\n",
      "Epoch [37/100], Step [5/6], d_loss: 0.5601, g_loss: 1.3910\n",
      "Epoch [37/100], Step [6/6], d_loss: 0.5827, g_loss: 1.1644\n",
      "Epoch [38/100], Step [1/6], d_loss: 0.5160, g_loss: 1.4239\n",
      "Epoch [38/100], Step [2/6], d_loss: 0.6112, g_loss: 1.2222\n",
      "Epoch [38/100], Step [3/6], d_loss: 0.6572, g_loss: 1.2307\n",
      "Epoch [38/100], Step [4/6], d_loss: 0.5745, g_loss: 1.2447\n",
      "Epoch [38/100], Step [5/6], d_loss: 0.6889, g_loss: 1.5824\n",
      "Epoch [38/100], Step [6/6], d_loss: 0.7101, g_loss: 1.3943\n",
      "Epoch [39/100], Step [1/6], d_loss: 0.6547, g_loss: 1.4563\n",
      "Epoch [39/100], Step [2/6], d_loss: 0.6959, g_loss: 1.4395\n",
      "Epoch [39/100], Step [3/6], d_loss: 0.9852, g_loss: 1.3001\n",
      "Epoch [39/100], Step [4/6], d_loss: 0.7679, g_loss: 1.1956\n",
      "Epoch [39/100], Step [5/6], d_loss: 1.0144, g_loss: 1.2611\n",
      "Epoch [39/100], Step [6/6], d_loss: 0.7747, g_loss: 1.1345\n",
      "Epoch [40/100], Step [1/6], d_loss: 0.9808, g_loss: 0.9232\n",
      "Epoch [40/100], Step [2/6], d_loss: 1.3653, g_loss: 0.8776\n",
      "Epoch [40/100], Step [3/6], d_loss: 1.1754, g_loss: 0.7579\n",
      "Epoch [40/100], Step [4/6], d_loss: 1.2877, g_loss: 0.6087\n",
      "Epoch [40/100], Step [5/6], d_loss: 1.1056, g_loss: 0.6759\n",
      "Epoch [40/100], Step [6/6], d_loss: 1.5470, g_loss: 0.6758\n",
      "Epoch [41/100], Step [1/6], d_loss: 1.2297, g_loss: 0.8107\n",
      "Epoch [41/100], Step [2/6], d_loss: 1.0535, g_loss: 0.8423\n",
      "Epoch [41/100], Step [3/6], d_loss: 1.1276, g_loss: 0.9138\n",
      "Epoch [41/100], Step [4/6], d_loss: 1.1875, g_loss: 0.8081\n",
      "Epoch [41/100], Step [5/6], d_loss: 1.1925, g_loss: 0.8631\n",
      "Epoch [41/100], Step [6/6], d_loss: 1.1037, g_loss: 0.8646\n",
      "Epoch [42/100], Step [1/6], d_loss: 0.9714, g_loss: 0.8364\n",
      "Epoch [42/100], Step [2/6], d_loss: 1.0342, g_loss: 0.8603\n",
      "Epoch [42/100], Step [3/6], d_loss: 0.9879, g_loss: 0.8623\n",
      "Epoch [42/100], Step [4/6], d_loss: 1.0734, g_loss: 0.8382\n",
      "Epoch [42/100], Step [5/6], d_loss: 1.0042, g_loss: 0.8401\n",
      "Epoch [42/100], Step [6/6], d_loss: 0.9049, g_loss: 0.9039\n",
      "Epoch [43/100], Step [1/6], d_loss: 0.8850, g_loss: 0.8771\n",
      "Epoch [43/100], Step [2/6], d_loss: 0.9234, g_loss: 0.8789\n",
      "Epoch [43/100], Step [3/6], d_loss: 0.9287, g_loss: 0.9263\n",
      "Epoch [43/100], Step [4/6], d_loss: 0.9103, g_loss: 0.9314\n",
      "Epoch [43/100], Step [5/6], d_loss: 0.8125, g_loss: 0.8878\n",
      "Epoch [43/100], Step [6/6], d_loss: 0.8726, g_loss: 0.8908\n",
      "Epoch [44/100], Step [1/6], d_loss: 0.7703, g_loss: 0.9495\n",
      "Epoch [44/100], Step [2/6], d_loss: 0.8270, g_loss: 0.9526\n",
      "Epoch [44/100], Step [3/6], d_loss: 0.7863, g_loss: 0.9967\n",
      "Epoch [44/100], Step [4/6], d_loss: 0.8152, g_loss: 0.9627\n",
      "Epoch [44/100], Step [5/6], d_loss: 0.7450, g_loss: 1.0008\n",
      "Epoch [44/100], Step [6/6], d_loss: 0.6868, g_loss: 1.0341\n",
      "Epoch [45/100], Step [1/6], d_loss: 0.7194, g_loss: 0.9244\n",
      "Epoch [45/100], Step [2/6], d_loss: 0.7021, g_loss: 0.9626\n",
      "Epoch [45/100], Step [3/6], d_loss: 0.7433, g_loss: 1.0484\n",
      "Epoch [45/100], Step [4/6], d_loss: 0.7056, g_loss: 1.1370\n",
      "Epoch [45/100], Step [5/6], d_loss: 0.6655, g_loss: 1.1759\n",
      "Epoch [45/100], Step [6/6], d_loss: 0.8140, g_loss: 1.2154\n",
      "Epoch [46/100], Step [1/6], d_loss: 0.6653, g_loss: 1.1763\n",
      "Epoch [46/100], Step [2/6], d_loss: 0.6653, g_loss: 1.2281\n",
      "Epoch [46/100], Step [3/6], d_loss: 0.6201, g_loss: 1.3098\n",
      "Epoch [46/100], Step [4/6], d_loss: 0.5580, g_loss: 1.2656\n",
      "Epoch [46/100], Step [5/6], d_loss: 0.7528, g_loss: 1.3287\n",
      "Epoch [46/100], Step [6/6], d_loss: 0.5945, g_loss: 1.4044\n",
      "Epoch [47/100], Step [1/6], d_loss: 0.6742, g_loss: 1.2830\n",
      "Epoch [47/100], Step [2/6], d_loss: 0.5823, g_loss: 1.2718\n",
      "Epoch [47/100], Step [3/6], d_loss: 0.6354, g_loss: 1.2361\n",
      "Epoch [47/100], Step [4/6], d_loss: 0.6627, g_loss: 1.2872\n",
      "Epoch [47/100], Step [5/6], d_loss: 0.8133, g_loss: 1.3657\n",
      "Epoch [47/100], Step [6/6], d_loss: 0.6873, g_loss: 1.4145\n",
      "Epoch [48/100], Step [1/6], d_loss: 0.8612, g_loss: 1.5140\n",
      "Epoch [48/100], Step [2/6], d_loss: 0.7895, g_loss: 1.3996\n",
      "Epoch [48/100], Step [3/6], d_loss: 0.8475, g_loss: 1.2883\n",
      "Epoch [48/100], Step [4/6], d_loss: 0.8857, g_loss: 1.0873\n",
      "Epoch [48/100], Step [5/6], d_loss: 0.8110, g_loss: 1.2493\n",
      "Epoch [48/100], Step [6/6], d_loss: 0.9661, g_loss: 1.2414\n",
      "Epoch [49/100], Step [1/6], d_loss: 1.0373, g_loss: 1.1723\n",
      "Epoch [49/100], Step [2/6], d_loss: 1.1246, g_loss: 1.2739\n",
      "Epoch [49/100], Step [3/6], d_loss: 1.2842, g_loss: 1.1221\n",
      "Epoch [49/100], Step [4/6], d_loss: 1.2054, g_loss: 1.0218\n",
      "Epoch [49/100], Step [5/6], d_loss: 1.2265, g_loss: 0.9288\n",
      "Epoch [49/100], Step [6/6], d_loss: 1.4622, g_loss: 0.9945\n",
      "Epoch [50/100], Step [1/6], d_loss: 1.3253, g_loss: 1.0059\n",
      "Epoch [50/100], Step [2/6], d_loss: 1.2361, g_loss: 0.9693\n",
      "Epoch [50/100], Step [3/6], d_loss: 1.2682, g_loss: 1.1034\n",
      "Epoch [50/100], Step [4/6], d_loss: 1.2009, g_loss: 1.0893\n",
      "Epoch [50/100], Step [5/6], d_loss: 1.2009, g_loss: 1.1042\n"
     ]
    },
    {
     "name": "stdout",
     "output_type": "stream",
     "text": [
      "Epoch [50/100], Step [6/6], d_loss: 1.4892, g_loss: 0.9688\n",
      "Epoch [51/100], Step [1/6], d_loss: 1.2105, g_loss: 1.0238\n",
      "Epoch [51/100], Step [2/6], d_loss: 1.1448, g_loss: 1.0004\n",
      "Epoch [51/100], Step [3/6], d_loss: 1.1967, g_loss: 1.0462\n",
      "Epoch [51/100], Step [4/6], d_loss: 1.0409, g_loss: 0.9641\n",
      "Epoch [51/100], Step [5/6], d_loss: 1.1584, g_loss: 0.9670\n",
      "Epoch [51/100], Step [6/6], d_loss: 1.2257, g_loss: 0.8113\n",
      "Epoch [52/100], Step [1/6], d_loss: 1.1413, g_loss: 0.9461\n",
      "Epoch [52/100], Step [2/6], d_loss: 1.2109, g_loss: 0.8756\n",
      "Epoch [52/100], Step [3/6], d_loss: 1.1623, g_loss: 0.9312\n",
      "Epoch [52/100], Step [4/6], d_loss: 1.0617, g_loss: 0.9386\n",
      "Epoch [52/100], Step [5/6], d_loss: 0.9728, g_loss: 0.9610\n",
      "Epoch [52/100], Step [6/6], d_loss: 0.9838, g_loss: 0.9843\n",
      "Epoch [53/100], Step [1/6], d_loss: 1.0075, g_loss: 0.9570\n",
      "Epoch [53/100], Step [2/6], d_loss: 1.0080, g_loss: 0.9894\n",
      "Epoch [53/100], Step [3/6], d_loss: 0.8929, g_loss: 0.9893\n",
      "Epoch [53/100], Step [4/6], d_loss: 0.9525, g_loss: 1.0422\n",
      "Epoch [53/100], Step [5/6], d_loss: 0.9947, g_loss: 1.0934\n",
      "Epoch [53/100], Step [6/6], d_loss: 0.7653, g_loss: 1.0573\n",
      "Epoch [54/100], Step [1/6], d_loss: 0.8102, g_loss: 1.1226\n",
      "Epoch [54/100], Step [2/6], d_loss: 0.8421, g_loss: 1.1913\n",
      "Epoch [54/100], Step [3/6], d_loss: 0.8193, g_loss: 1.1705\n",
      "Epoch [54/100], Step [4/6], d_loss: 0.6910, g_loss: 1.2803\n",
      "Epoch [54/100], Step [5/6], d_loss: 0.6472, g_loss: 1.2832\n",
      "Epoch [54/100], Step [6/6], d_loss: 0.6396, g_loss: 1.4106\n",
      "Epoch [55/100], Step [1/6], d_loss: 0.5858, g_loss: 1.4563\n",
      "Epoch [55/100], Step [2/6], d_loss: 0.6007, g_loss: 1.3605\n",
      "Epoch [55/100], Step [3/6], d_loss: 0.5235, g_loss: 1.5288\n",
      "Epoch [55/100], Step [4/6], d_loss: 0.5776, g_loss: 1.6926\n",
      "Epoch [55/100], Step [5/6], d_loss: 0.4901, g_loss: 1.7783\n",
      "Epoch [55/100], Step [6/6], d_loss: 0.4157, g_loss: 2.2372\n",
      "Epoch [56/100], Step [1/6], d_loss: 0.4888, g_loss: 1.9448\n",
      "Epoch [56/100], Step [2/6], d_loss: 0.4546, g_loss: 1.9297\n",
      "Epoch [56/100], Step [3/6], d_loss: 0.3260, g_loss: 2.2220\n",
      "Epoch [56/100], Step [4/6], d_loss: 0.4487, g_loss: 2.0233\n",
      "Epoch [56/100], Step [5/6], d_loss: 0.3617, g_loss: 1.9982\n",
      "Epoch [56/100], Step [6/6], d_loss: 0.4454, g_loss: 2.3865\n",
      "Epoch [57/100], Step [1/6], d_loss: 0.4701, g_loss: 2.1779\n",
      "Epoch [57/100], Step [2/6], d_loss: 0.5859, g_loss: 2.3275\n",
      "Epoch [57/100], Step [3/6], d_loss: 0.5857, g_loss: 2.4593\n",
      "Epoch [57/100], Step [4/6], d_loss: 0.4811, g_loss: 2.2168\n",
      "Epoch [57/100], Step [5/6], d_loss: 0.9862, g_loss: 1.9165\n",
      "Epoch [57/100], Step [6/6], d_loss: 0.7087, g_loss: 1.6099\n",
      "Epoch [58/100], Step [1/6], d_loss: 0.7531, g_loss: 1.4745\n",
      "Epoch [58/100], Step [2/6], d_loss: 0.8981, g_loss: 1.3882\n",
      "Epoch [58/100], Step [3/6], d_loss: 1.2113, g_loss: 1.3504\n",
      "Epoch [58/100], Step [4/6], d_loss: 1.4578, g_loss: 1.0578\n",
      "Epoch [58/100], Step [5/6], d_loss: 1.3901, g_loss: 1.0451\n",
      "Epoch [58/100], Step [6/6], d_loss: 1.4308, g_loss: 1.1114\n",
      "Epoch [59/100], Step [1/6], d_loss: 1.3502, g_loss: 0.8471\n",
      "Epoch [59/100], Step [2/6], d_loss: 1.1941, g_loss: 0.8758\n",
      "Epoch [59/100], Step [3/6], d_loss: 1.2445, g_loss: 0.9972\n",
      "Epoch [59/100], Step [4/6], d_loss: 1.3080, g_loss: 0.9700\n",
      "Epoch [59/100], Step [5/6], d_loss: 1.1463, g_loss: 1.0368\n",
      "Epoch [59/100], Step [6/6], d_loss: 1.4095, g_loss: 1.0948\n",
      "Epoch [60/100], Step [1/6], d_loss: 1.1553, g_loss: 0.9812\n",
      "Epoch [60/100], Step [2/6], d_loss: 1.1172, g_loss: 1.0000\n",
      "Epoch [60/100], Step [3/6], d_loss: 1.0883, g_loss: 0.8715\n",
      "Epoch [60/100], Step [4/6], d_loss: 1.2349, g_loss: 0.8844\n",
      "Epoch [60/100], Step [5/6], d_loss: 1.0121, g_loss: 0.9236\n",
      "Epoch [60/100], Step [6/6], d_loss: 1.1273, g_loss: 0.9654\n",
      "Epoch [61/100], Step [1/6], d_loss: 1.0362, g_loss: 0.8879\n",
      "Epoch [61/100], Step [2/6], d_loss: 1.0466, g_loss: 0.9426\n",
      "Epoch [61/100], Step [3/6], d_loss: 1.1021, g_loss: 1.0462\n",
      "Epoch [61/100], Step [4/6], d_loss: 1.0567, g_loss: 1.0331\n",
      "Epoch [61/100], Step [5/6], d_loss: 0.9805, g_loss: 1.0324\n",
      "Epoch [61/100], Step [6/6], d_loss: 0.9255, g_loss: 1.1025\n",
      "Epoch [62/100], Step [1/6], d_loss: 1.0069, g_loss: 1.0671\n",
      "Epoch [62/100], Step [2/6], d_loss: 0.9234, g_loss: 1.0419\n",
      "Epoch [62/100], Step [3/6], d_loss: 0.8778, g_loss: 1.0943\n",
      "Epoch [62/100], Step [4/6], d_loss: 0.8423, g_loss: 1.0953\n",
      "Epoch [62/100], Step [5/6], d_loss: 0.9903, g_loss: 1.2190\n",
      "Epoch [62/100], Step [6/6], d_loss: 0.7159, g_loss: 1.1675\n",
      "Epoch [63/100], Step [1/6], d_loss: 0.8817, g_loss: 1.1968\n",
      "Epoch [63/100], Step [2/6], d_loss: 0.9289, g_loss: 1.2569\n",
      "Epoch [63/100], Step [3/6], d_loss: 0.7812, g_loss: 1.1670\n",
      "Epoch [63/100], Step [4/6], d_loss: 0.7507, g_loss: 1.1303\n",
      "Epoch [63/100], Step [5/6], d_loss: 0.8173, g_loss: 1.1882\n",
      "Epoch [63/100], Step [6/6], d_loss: 0.6547, g_loss: 1.2565\n",
      "Epoch [64/100], Step [1/6], d_loss: 0.7487, g_loss: 1.2843\n",
      "Epoch [64/100], Step [2/6], d_loss: 0.7201, g_loss: 1.2765\n",
      "Epoch [64/100], Step [3/6], d_loss: 0.7790, g_loss: 1.4964\n",
      "Epoch [64/100], Step [4/6], d_loss: 0.6480, g_loss: 1.5968\n",
      "Epoch [64/100], Step [5/6], d_loss: 0.6703, g_loss: 1.6310\n",
      "Epoch [64/100], Step [6/6], d_loss: 0.8092, g_loss: 1.5154\n",
      "Epoch [65/100], Step [1/6], d_loss: 0.6396, g_loss: 1.6748\n",
      "Epoch [65/100], Step [2/6], d_loss: 0.7032, g_loss: 1.3948\n",
      "Epoch [65/100], Step [3/6], d_loss: 0.8264, g_loss: 1.3146\n",
      "Epoch [65/100], Step [4/6], d_loss: 0.7189, g_loss: 1.5361\n",
      "Epoch [65/100], Step [5/6], d_loss: 0.5987, g_loss: 1.7996\n",
      "Epoch [65/100], Step [6/6], d_loss: 1.0063, g_loss: 2.0133\n",
      "Epoch [66/100], Step [1/6], d_loss: 0.7885, g_loss: 2.0091\n",
      "Epoch [66/100], Step [2/6], d_loss: 0.8240, g_loss: 1.9885\n",
      "Epoch [66/100], Step [3/6], d_loss: 0.8322, g_loss: 1.7296\n",
      "Epoch [66/100], Step [4/6], d_loss: 0.7797, g_loss: 1.6689\n",
      "Epoch [66/100], Step [5/6], d_loss: 0.7333, g_loss: 1.3708\n",
      "Epoch [66/100], Step [6/6], d_loss: 0.9474, g_loss: 1.1529\n",
      "Epoch [67/100], Step [1/6], d_loss: 1.0948, g_loss: 1.2679\n",
      "Epoch [67/100], Step [2/6], d_loss: 1.3241, g_loss: 1.0223\n",
      "Epoch [67/100], Step [3/6], d_loss: 1.2686, g_loss: 0.9452\n",
      "Epoch [67/100], Step [4/6], d_loss: 1.6062, g_loss: 1.0581\n",
      "Epoch [67/100], Step [5/6], d_loss: 1.2331, g_loss: 1.1370\n",
      "Epoch [67/100], Step [6/6], d_loss: 1.3174, g_loss: 0.8533\n",
      "Epoch [68/100], Step [1/6], d_loss: 1.4579, g_loss: 0.9953\n",
      "Epoch [68/100], Step [2/6], d_loss: 1.3719, g_loss: 0.9434\n",
      "Epoch [68/100], Step [3/6], d_loss: 1.4254, g_loss: 0.9337\n",
      "Epoch [68/100], Step [4/6], d_loss: 1.2916, g_loss: 0.9201\n",
      "Epoch [68/100], Step [5/6], d_loss: 1.3548, g_loss: 0.9091\n",
      "Epoch [68/100], Step [6/6], d_loss: 0.9825, g_loss: 0.8988\n",
      "Epoch [69/100], Step [1/6], d_loss: 1.2942, g_loss: 0.8811\n",
      "Epoch [69/100], Step [2/6], d_loss: 1.3187, g_loss: 0.8173\n",
      "Epoch [69/100], Step [3/6], d_loss: 1.1025, g_loss: 0.9174\n",
      "Epoch [69/100], Step [4/6], d_loss: 1.0974, g_loss: 0.8977\n",
      "Epoch [69/100], Step [5/6], d_loss: 1.1400, g_loss: 0.8969\n",
      "Epoch [69/100], Step [6/6], d_loss: 1.1162, g_loss: 0.9538\n",
      "Epoch [70/100], Step [1/6], d_loss: 1.1666, g_loss: 0.9578\n",
      "Epoch [70/100], Step [2/6], d_loss: 1.1034, g_loss: 1.0184\n",
      "Epoch [70/100], Step [3/6], d_loss: 1.0563, g_loss: 1.0112\n",
      "Epoch [70/100], Step [4/6], d_loss: 1.0060, g_loss: 0.9683\n",
      "Epoch [70/100], Step [5/6], d_loss: 0.9325, g_loss: 1.0189\n",
      "Epoch [70/100], Step [6/6], d_loss: 0.8606, g_loss: 1.0034\n",
      "Epoch [71/100], Step [1/6], d_loss: 0.9773, g_loss: 0.9594\n",
      "Epoch [71/100], Step [2/6], d_loss: 0.9132, g_loss: 1.0261\n",
      "Epoch [71/100], Step [3/6], d_loss: 0.7925, g_loss: 1.1190\n",
      "Epoch [71/100], Step [4/6], d_loss: 0.8223, g_loss: 1.1855\n",
      "Epoch [71/100], Step [5/6], d_loss: 0.7894, g_loss: 1.1219\n",
      "Epoch [71/100], Step [6/6], d_loss: 0.8523, g_loss: 1.1716\n",
      "Epoch [72/100], Step [1/6], d_loss: 0.8164, g_loss: 1.5414\n",
      "Epoch [72/100], Step [2/6], d_loss: 0.7987, g_loss: 1.5647\n",
      "Epoch [72/100], Step [3/6], d_loss: 0.6468, g_loss: 1.5252\n",
      "Epoch [72/100], Step [4/6], d_loss: 0.5616, g_loss: 1.4652\n",
      "Epoch [72/100], Step [5/6], d_loss: 0.6847, g_loss: 1.4474\n",
      "Epoch [72/100], Step [6/6], d_loss: 0.6357, g_loss: 1.4884\n",
      "Epoch [73/100], Step [1/6], d_loss: 0.7233, g_loss: 1.5401\n",
      "Epoch [73/100], Step [2/6], d_loss: 0.7998, g_loss: 1.6290\n",
      "Epoch [73/100], Step [3/6], d_loss: 0.7730, g_loss: 2.0079\n",
      "Epoch [73/100], Step [4/6], d_loss: 0.7622, g_loss: 2.0863\n",
      "Epoch [73/100], Step [5/6], d_loss: 0.7965, g_loss: 2.3370\n",
      "Epoch [73/100], Step [6/6], d_loss: 1.1958, g_loss: 1.4498\n",
      "Epoch [74/100], Step [1/6], d_loss: 0.9702, g_loss: 1.5083\n",
      "Epoch [74/100], Step [2/6], d_loss: 1.0992, g_loss: 1.4419\n",
      "Epoch [74/100], Step [3/6], d_loss: 1.5230, g_loss: 0.9404\n",
      "Epoch [74/100], Step [4/6], d_loss: 1.7326, g_loss: 0.9126\n",
      "Epoch [74/100], Step [5/6], d_loss: 1.8723, g_loss: 0.7991\n",
      "Epoch [74/100], Step [6/6], d_loss: 2.0058, g_loss: 1.0630\n",
      "Epoch [75/100], Step [1/6], d_loss: 1.5594, g_loss: 0.9174\n",
      "Epoch [75/100], Step [2/6], d_loss: 1.5613, g_loss: 0.9325\n",
      "Epoch [75/100], Step [3/6], d_loss: 1.3958, g_loss: 0.9738\n",
      "Epoch [75/100], Step [4/6], d_loss: 1.3491, g_loss: 1.0430\n",
      "Epoch [75/100], Step [5/6], d_loss: 1.3054, g_loss: 1.0108\n",
      "Epoch [75/100], Step [6/6], d_loss: 1.2718, g_loss: 1.0475\n",
      "Epoch [76/100], Step [1/6], d_loss: 1.2666, g_loss: 0.9465\n"
     ]
    },
    {
     "name": "stdout",
     "output_type": "stream",
     "text": [
      "Epoch [76/100], Step [2/6], d_loss: 1.3826, g_loss: 0.9802\n",
      "Epoch [76/100], Step [3/6], d_loss: 1.3224, g_loss: 1.0068\n",
      "Epoch [76/100], Step [4/6], d_loss: 1.1418, g_loss: 0.9650\n",
      "Epoch [76/100], Step [5/6], d_loss: 1.2540, g_loss: 0.8899\n",
      "Epoch [76/100], Step [6/6], d_loss: 1.0457, g_loss: 0.8497\n",
      "Epoch [77/100], Step [1/6], d_loss: 1.1361, g_loss: 0.9300\n",
      "Epoch [77/100], Step [2/6], d_loss: 1.0290, g_loss: 0.9710\n",
      "Epoch [77/100], Step [3/6], d_loss: 1.1469, g_loss: 0.9871\n",
      "Epoch [77/100], Step [4/6], d_loss: 1.0935, g_loss: 0.9903\n",
      "Epoch [77/100], Step [5/6], d_loss: 1.0352, g_loss: 1.0572\n",
      "Epoch [77/100], Step [6/6], d_loss: 0.8262, g_loss: 1.0119\n",
      "Epoch [78/100], Step [1/6], d_loss: 1.0538, g_loss: 1.0980\n",
      "Epoch [78/100], Step [2/6], d_loss: 0.9975, g_loss: 1.0203\n",
      "Epoch [78/100], Step [3/6], d_loss: 1.0062, g_loss: 1.0649\n",
      "Epoch [78/100], Step [4/6], d_loss: 1.0447, g_loss: 1.0881\n",
      "Epoch [78/100], Step [5/6], d_loss: 1.0706, g_loss: 1.1340\n",
      "Epoch [78/100], Step [6/6], d_loss: 0.9698, g_loss: 1.1432\n",
      "Epoch [79/100], Step [1/6], d_loss: 0.9338, g_loss: 1.1875\n",
      "Epoch [79/100], Step [2/6], d_loss: 1.0923, g_loss: 1.1632\n",
      "Epoch [79/100], Step [3/6], d_loss: 0.9159, g_loss: 1.2017\n",
      "Epoch [79/100], Step [4/6], d_loss: 0.8884, g_loss: 1.1953\n",
      "Epoch [79/100], Step [5/6], d_loss: 0.9372, g_loss: 1.2337\n",
      "Epoch [79/100], Step [6/6], d_loss: 0.8256, g_loss: 1.2581\n",
      "Epoch [80/100], Step [1/6], d_loss: 0.9385, g_loss: 1.2583\n",
      "Epoch [80/100], Step [2/6], d_loss: 0.8739, g_loss: 1.3057\n",
      "Epoch [80/100], Step [3/6], d_loss: 0.8057, g_loss: 1.2339\n",
      "Epoch [80/100], Step [4/6], d_loss: 0.9270, g_loss: 1.3685\n",
      "Epoch [80/100], Step [5/6], d_loss: 0.8646, g_loss: 1.3117\n",
      "Epoch [80/100], Step [6/6], d_loss: 1.1284, g_loss: 1.3104\n",
      "Epoch [81/100], Step [1/6], d_loss: 0.8354, g_loss: 1.2409\n",
      "Epoch [81/100], Step [2/6], d_loss: 0.8866, g_loss: 1.2675\n",
      "Epoch [81/100], Step [3/6], d_loss: 0.7944, g_loss: 1.3755\n",
      "Epoch [81/100], Step [4/6], d_loss: 0.8054, g_loss: 1.3215\n",
      "Epoch [81/100], Step [5/6], d_loss: 0.7922, g_loss: 1.3303\n",
      "Epoch [81/100], Step [6/6], d_loss: 0.5584, g_loss: 1.4573\n",
      "Epoch [82/100], Step [1/6], d_loss: 0.7659, g_loss: 1.4004\n",
      "Epoch [82/100], Step [2/6], d_loss: 0.8010, g_loss: 1.4186\n",
      "Epoch [82/100], Step [3/6], d_loss: 0.8091, g_loss: 1.4934\n",
      "Epoch [82/100], Step [4/6], d_loss: 0.7694, g_loss: 1.4472\n",
      "Epoch [82/100], Step [5/6], d_loss: 0.8295, g_loss: 1.4776\n",
      "Epoch [82/100], Step [6/6], d_loss: 0.8734, g_loss: 1.4093\n",
      "Epoch [83/100], Step [1/6], d_loss: 0.8337, g_loss: 1.4345\n",
      "Epoch [83/100], Step [2/6], d_loss: 0.6644, g_loss: 1.5430\n",
      "Epoch [83/100], Step [3/6], d_loss: 0.8051, g_loss: 1.4740\n",
      "Epoch [83/100], Step [4/6], d_loss: 0.9780, g_loss: 1.6099\n",
      "Epoch [83/100], Step [5/6], d_loss: 0.9674, g_loss: 1.5224\n",
      "Epoch [83/100], Step [6/6], d_loss: 0.9792, g_loss: 1.7337\n",
      "Epoch [84/100], Step [1/6], d_loss: 1.0440, g_loss: 1.5500\n",
      "Epoch [84/100], Step [2/6], d_loss: 0.8411, g_loss: 1.5634\n",
      "Epoch [84/100], Step [3/6], d_loss: 1.0744, g_loss: 1.5458\n",
      "Epoch [84/100], Step [4/6], d_loss: 0.9221, g_loss: 1.6483\n",
      "Epoch [84/100], Step [5/6], d_loss: 1.0214, g_loss: 1.4728\n",
      "Epoch [84/100], Step [6/6], d_loss: 1.3469, g_loss: 1.3833\n",
      "Epoch [85/100], Step [1/6], d_loss: 1.1045, g_loss: 1.4071\n",
      "Epoch [85/100], Step [2/6], d_loss: 1.1339, g_loss: 1.4180\n",
      "Epoch [85/100], Step [3/6], d_loss: 1.0053, g_loss: 1.2797\n",
      "Epoch [85/100], Step [4/6], d_loss: 1.2907, g_loss: 1.2163\n",
      "Epoch [85/100], Step [5/6], d_loss: 1.3322, g_loss: 1.0676\n",
      "Epoch [85/100], Step [6/6], d_loss: 1.3870, g_loss: 1.0987\n",
      "Epoch [86/100], Step [1/6], d_loss: 1.1819, g_loss: 1.0398\n",
      "Epoch [86/100], Step [2/6], d_loss: 1.3265, g_loss: 1.0158\n",
      "Epoch [86/100], Step [3/6], d_loss: 1.5921, g_loss: 1.1257\n",
      "Epoch [86/100], Step [4/6], d_loss: 1.3353, g_loss: 1.1209\n",
      "Epoch [86/100], Step [5/6], d_loss: 1.3234, g_loss: 1.1168\n",
      "Epoch [86/100], Step [6/6], d_loss: 1.3818, g_loss: 1.0559\n",
      "Epoch [87/100], Step [1/6], d_loss: 1.2672, g_loss: 0.9387\n",
      "Epoch [87/100], Step [2/6], d_loss: 1.3237, g_loss: 0.8957\n",
      "Epoch [87/100], Step [3/6], d_loss: 1.1818, g_loss: 0.8683\n",
      "Epoch [87/100], Step [4/6], d_loss: 1.1325, g_loss: 0.9886\n",
      "Epoch [87/100], Step [5/6], d_loss: 1.1352, g_loss: 1.0018\n",
      "Epoch [87/100], Step [6/6], d_loss: 1.2119, g_loss: 1.0210\n",
      "Epoch [88/100], Step [1/6], d_loss: 1.1664, g_loss: 1.0793\n",
      "Epoch [88/100], Step [2/6], d_loss: 1.0393, g_loss: 1.1637\n",
      "Epoch [88/100], Step [3/6], d_loss: 1.1386, g_loss: 1.1264\n",
      "Epoch [88/100], Step [4/6], d_loss: 1.1588, g_loss: 1.1058\n",
      "Epoch [88/100], Step [5/6], d_loss: 0.9572, g_loss: 1.1265\n",
      "Epoch [88/100], Step [6/6], d_loss: 0.8862, g_loss: 1.1586\n",
      "Epoch [89/100], Step [1/6], d_loss: 1.0560, g_loss: 1.0250\n",
      "Epoch [89/100], Step [2/6], d_loss: 0.8958, g_loss: 0.9457\n",
      "Epoch [89/100], Step [3/6], d_loss: 0.9145, g_loss: 0.9298\n",
      "Epoch [89/100], Step [4/6], d_loss: 0.8853, g_loss: 0.9986\n",
      "Epoch [89/100], Step [5/6], d_loss: 0.9891, g_loss: 1.0410\n",
      "Epoch [89/100], Step [6/6], d_loss: 0.8264, g_loss: 1.1336\n",
      "Epoch [90/100], Step [1/6], d_loss: 0.9282, g_loss: 1.0874\n",
      "Epoch [90/100], Step [2/6], d_loss: 0.8344, g_loss: 1.1465\n",
      "Epoch [90/100], Step [3/6], d_loss: 0.8418, g_loss: 1.1413\n",
      "Epoch [90/100], Step [4/6], d_loss: 0.8101, g_loss: 1.1199\n",
      "Epoch [90/100], Step [5/6], d_loss: 0.9314, g_loss: 1.0972\n",
      "Epoch [90/100], Step [6/6], d_loss: 0.9198, g_loss: 1.0370\n",
      "Epoch [91/100], Step [1/6], d_loss: 0.9319, g_loss: 0.9761\n",
      "Epoch [91/100], Step [2/6], d_loss: 0.9651, g_loss: 1.0526\n",
      "Epoch [91/100], Step [3/6], d_loss: 1.0800, g_loss: 1.0162\n",
      "Epoch [91/100], Step [4/6], d_loss: 0.8975, g_loss: 1.0118\n",
      "Epoch [91/100], Step [5/6], d_loss: 0.8797, g_loss: 1.0677\n",
      "Epoch [91/100], Step [6/6], d_loss: 0.9750, g_loss: 1.0845\n",
      "Epoch [92/100], Step [1/6], d_loss: 1.0972, g_loss: 1.0177\n",
      "Epoch [92/100], Step [2/6], d_loss: 1.1248, g_loss: 1.0994\n",
      "Epoch [92/100], Step [3/6], d_loss: 1.0444, g_loss: 1.0624\n",
      "Epoch [92/100], Step [4/6], d_loss: 1.1804, g_loss: 1.0045\n",
      "Epoch [92/100], Step [5/6], d_loss: 1.2440, g_loss: 0.9978\n",
      "Epoch [92/100], Step [6/6], d_loss: 1.2383, g_loss: 1.0708\n",
      "Epoch [93/100], Step [1/6], d_loss: 1.1429, g_loss: 0.9981\n",
      "Epoch [93/100], Step [2/6], d_loss: 1.1959, g_loss: 1.0277\n",
      "Epoch [93/100], Step [3/6], d_loss: 1.2152, g_loss: 1.0336\n",
      "Epoch [93/100], Step [4/6], d_loss: 1.2216, g_loss: 1.0206\n",
      "Epoch [93/100], Step [5/6], d_loss: 1.2484, g_loss: 1.0108\n",
      "Epoch [93/100], Step [6/6], d_loss: 1.2735, g_loss: 1.0761\n",
      "Epoch [94/100], Step [1/6], d_loss: 1.2207, g_loss: 0.9911\n",
      "Epoch [94/100], Step [2/6], d_loss: 1.2695, g_loss: 0.9858\n",
      "Epoch [94/100], Step [3/6], d_loss: 1.1863, g_loss: 0.9607\n",
      "Epoch [94/100], Step [4/6], d_loss: 1.0769, g_loss: 1.0283\n",
      "Epoch [94/100], Step [5/6], d_loss: 1.2237, g_loss: 1.0069\n",
      "Epoch [94/100], Step [6/6], d_loss: 1.1500, g_loss: 1.0423\n",
      "Epoch [95/100], Step [1/6], d_loss: 1.2012, g_loss: 0.9544\n",
      "Epoch [95/100], Step [2/6], d_loss: 1.2933, g_loss: 1.0546\n",
      "Epoch [95/100], Step [3/6], d_loss: 1.2825, g_loss: 1.0807\n",
      "Epoch [95/100], Step [4/6], d_loss: 1.1315, g_loss: 0.9906\n",
      "Epoch [95/100], Step [5/6], d_loss: 1.0659, g_loss: 0.9843\n",
      "Epoch [95/100], Step [6/6], d_loss: 1.2018, g_loss: 1.0317\n",
      "Epoch [96/100], Step [1/6], d_loss: 1.0948, g_loss: 1.0571\n",
      "Epoch [96/100], Step [2/6], d_loss: 1.1641, g_loss: 1.0106\n",
      "Epoch [96/100], Step [3/6], d_loss: 1.2133, g_loss: 1.0060\n",
      "Epoch [96/100], Step [4/6], d_loss: 1.1341, g_loss: 1.0370\n",
      "Epoch [96/100], Step [5/6], d_loss: 1.1592, g_loss: 1.0243\n",
      "Epoch [96/100], Step [6/6], d_loss: 1.0654, g_loss: 1.1163\n",
      "Epoch [97/100], Step [1/6], d_loss: 1.0957, g_loss: 1.0058\n",
      "Epoch [97/100], Step [2/6], d_loss: 1.0736, g_loss: 0.9150\n",
      "Epoch [97/100], Step [3/6], d_loss: 0.9762, g_loss: 0.9586\n",
      "Epoch [97/100], Step [4/6], d_loss: 1.0725, g_loss: 0.9648\n",
      "Epoch [97/100], Step [5/6], d_loss: 1.0579, g_loss: 0.9742\n",
      "Epoch [97/100], Step [6/6], d_loss: 1.0808, g_loss: 0.9709\n",
      "Epoch [98/100], Step [1/6], d_loss: 1.0127, g_loss: 0.9988\n",
      "Epoch [98/100], Step [2/6], d_loss: 1.0017, g_loss: 1.0257\n",
      "Epoch [98/100], Step [3/6], d_loss: 0.9737, g_loss: 1.0029\n",
      "Epoch [98/100], Step [4/6], d_loss: 0.9943, g_loss: 1.0786\n",
      "Epoch [98/100], Step [5/6], d_loss: 1.0265, g_loss: 1.0052\n",
      "Epoch [98/100], Step [6/6], d_loss: 1.0754, g_loss: 1.0230\n",
      "Epoch [99/100], Step [1/6], d_loss: 1.0208, g_loss: 1.0189\n",
      "Epoch [99/100], Step [2/6], d_loss: 1.1054, g_loss: 1.0589\n",
      "Epoch [99/100], Step [3/6], d_loss: 0.9039, g_loss: 1.0592\n",
      "Epoch [99/100], Step [4/6], d_loss: 1.0071, g_loss: 1.0276\n",
      "Epoch [99/100], Step [5/6], d_loss: 0.9151, g_loss: 1.1131\n",
      "Epoch [99/100], Step [6/6], d_loss: 1.0301, g_loss: 1.1176\n"
     ]
    }
   ],
   "source": [
    "history = fit(epochs, lr, opt_d, opt_g)"
   ]
  },
  {
   "cell_type": "markdown",
   "metadata": {},
   "source": [
    "# Testing Generated Samples from Trained Generator"
   ]
  },
  {
   "cell_type": "code",
   "execution_count": 21,
   "metadata": {},
   "outputs": [],
   "source": [
    "number_of_samples_to_generate = df[df.label == 0].shape[0] - df[df.label == 1].shape[0]"
   ]
  },
  {
   "cell_type": "code",
   "execution_count": 22,
   "metadata": {},
   "outputs": [],
   "source": [
    "# number_of_samples_to_generate"
   ]
  },
  {
   "cell_type": "code",
   "execution_count": 33,
   "metadata": {
    "id": "LqTQoqbHje5Z"
   },
   "outputs": [],
   "source": [
    "latent_space_samples = torch.randn(number_of_samples_to_generate, 7).to(device)\n",
    "generated_samples = generator(latent_space_samples)\n",
    "generated_samples = torch.concat([generated_samples, torch.ones((number_of_samples_to_generate, 1)).to('cuda')], dim = 1)\n",
    "generated_samples = generated_samples.cpu().detach().numpy()\n",
    "df_generated = pd.DataFrame(generated_samples, columns = df.columns)"
   ]
  },
  {
   "cell_type": "code",
   "execution_count": 34,
   "metadata": {},
   "outputs": [
    {
     "data": {
      "text/plain": [
       "<AxesSubplot:>"
      ]
     },
     "execution_count": 34,
     "metadata": {},
     "output_type": "execute_result"
    },
    {
     "data": {
      "image/png": "[encoded data removed]",
      "text/plain": [
       "<Figure size 432x288 with 2 Axes>"
      ]
     },
     "metadata": {
      "needs_background": "light"
     },
     "output_type": "display_data"
    }
   ],
   "source": [
    "sns.heatmap(df_generated[df_generated.columns[:-1]].corr(), annot = True)"
   ]
  },
  {
   "cell_type": "code",
   "execution_count": 35,
   "metadata": {
    "scrolled": true
   },
   "outputs": [
    {
     "data": {
      "text/plain": [
       "<AxesSubplot:>"
      ]
     },
     "execution_count": 35,
     "metadata": {},
     "output_type": "execute_result"
    },
    {
     "data": {
      "image/png": "[encoded data removed]",
      "text/plain": [
       "<Figure size 432x288 with 2 Axes>"
      ]
     },
     "metadata": {
      "needs_background": "light"
     },
     "output_type": "display_data"
    }
   ],
   "source": [
    "ones = df[df.label == 1]\n",
    "sns.heatmap(ones[ones.columns[:-1]].corr(), annot = True)"
   ]
  },
  {
   "cell_type": "code",
   "execution_count": 46,
   "metadata": {},
   "outputs": [],
   "source": [
    "def generate_samples(number_of_samples_to_generate):\n",
    "    latent_space_samples = torch.randn(number_of_samples_to_generate, 7).to(device)\n",
    "    generated_samples = generator(latent_space_samples)\n",
    "    generated_samples = torch.concat([generated_samples, torch.ones((number_of_samples_to_generate, 1)).to('cuda')], dim = 1)\n",
    "    generated_samples = generated_samples.cpu().detach().numpy()\n",
    "    df_generated = pd.DataFrame(generated_samples, columns = df.columns)\n",
    "    \n",
    "    return df_generated"
   ]
  },
  {
   "cell_type": "markdown",
   "metadata": {},
   "source": [
    "# Check accuracy of model on balanced and imbalanced dataset"
   ]
  },
  {
   "cell_type": "code",
   "execution_count": 75,
   "metadata": {},
   "outputs": [],
   "source": [
    "X = df[df.columns.to_list()[:-1]]\n",
    "y = df['label']"
   ]
  },
  {
   "cell_type": "code",
   "execution_count": 76,
   "metadata": {},
   "outputs": [],
   "source": [
    "from sklearn.model_selection import train_test_split\n",
    "X_train, X_test, y_train, y_test = train_test_split(X, y, random_state = 42, test_size = 0.4)\n",
    "X_train['label'] = y_train\n",
    "X_train.reset_index(drop = True, inplace = True)"
   ]
  },
  {
   "cell_type": "code",
   "execution_count": 77,
   "metadata": {},
   "outputs": [
    {
     "data": {
      "text/plain": [
       "0    333\n",
       "1    201\n",
       "Name: label, dtype: int64"
      ]
     },
     "execution_count": 77,
     "metadata": {},
     "output_type": "execute_result"
    }
   ],
   "source": [
    "X_train.label.value_counts()"
   ]
  },
  {
   "cell_type": "code",
   "execution_count": 78,
   "metadata": {},
   "outputs": [],
   "source": [
    "X_train_gen = X_train.copy()\n",
    "number_of_samples_to_generate = 333 - 201\n",
    "X_train_gen = pd.concat([X_train_gen, generate_samples(number_of_samples_to_generate)]).reset_index(drop = True)\n",
    "X_train_gen['label'] = X_train_gen['label'].map(int)"
   ]
  },
  {
   "cell_type": "code",
   "execution_count": 79,
   "metadata": {},
   "outputs": [
    {
     "data": {
      "text/plain": [
       "1    333\n",
       "0    333\n",
       "Name: label, dtype: int64"
      ]
     },
     "execution_count": 79,
     "metadata": {},
     "output_type": "execute_result"
    }
   ],
   "source": [
    "X_train_gen.label.value_counts()"
   ]
  },
  {
   "cell_type": "markdown",
   "metadata": {},
   "source": [
    "<b> Training with XGBOOST"
   ]
  },
  {
   "cell_type": "code",
   "execution_count": 80,
   "metadata": {},
   "outputs": [],
   "source": [
    "import warnings\n",
    "warnings.filterwarnings(\"ignore\")\n",
    "from xgboost import XGBClassifier\n",
    "from sklearn.metrics import classification_report, accuracy_score"
   ]
  },
  {
   "cell_type": "code",
   "execution_count": 81,
   "metadata": {},
   "outputs": [
    {
     "name": "stdout",
     "output_type": "stream",
     "text": [
      "[14:06:58] WARNING: C:/Users/Administrator/workspace/xgboost-win64_release_1.4.0/src/learner.cc:1095: Starting in XGBoost 1.3.0, the default evaluation metric used with the objective 'binary:logistic' was changed from 'error' to 'logloss'. Explicitly set eval_metric if you'd like to restore the old behavior.\n",
      "              precision    recall  f1-score   support\n",
      "\n",
      "           0       0.81      0.85      0.83       216\n",
      "           1       0.76      0.70      0.73       141\n",
      "\n",
      "    accuracy                           0.79       357\n",
      "   macro avg       0.78      0.78      0.78       357\n",
      "weighted avg       0.79      0.79      0.79       357\n",
      "\n"
     ]
    }
   ],
   "source": [
    "# IMBALANCED\n",
    "\n",
    "a = X_train[X_train.columns.to_list()[:-1]]\n",
    "b = X_train['label']\n",
    "\n",
    "xgb = XGBClassifier(n_jobs = -1, random_state = 4).fit(a, b)\n",
    "test_preds = xgb.predict(X_test)\n",
    "print(classification_report(y_test, test_preds))"
   ]
  },
  {
   "cell_type": "code",
   "execution_count": 82,
   "metadata": {},
   "outputs": [
    {
     "name": "stdout",
     "output_type": "stream",
     "text": [
      "[14:06:59] WARNING: C:/Users/Administrator/workspace/xgboost-win64_release_1.4.0/src/learner.cc:1095: Starting in XGBoost 1.3.0, the default evaluation metric used with the objective 'binary:logistic' was changed from 'error' to 'logloss'. Explicitly set eval_metric if you'd like to restore the old behavior.\n",
      "              precision    recall  f1-score   support\n",
      "\n",
      "           0       0.82      0.86      0.84       216\n",
      "           1       0.76      0.71      0.74       141\n",
      "\n",
      "    accuracy                           0.80       357\n",
      "   macro avg       0.79      0.78      0.79       357\n",
      "weighted avg       0.80      0.80      0.80       357\n",
      "\n"
     ]
    }
   ],
   "source": [
    "# BAlANCED\n",
    "\n",
    "a = X_train_gen[X_train_gen.columns.to_list()[:-1]]\n",
    "b = X_train_gen['label']\n",
    "\n",
    "xgb = XGBClassifier(n_jobs = -1, random_state = 4).fit(a, b)\n",
    "test_preds = xgb.predict(X_test)\n",
    "print(classification_report(y_test, test_preds))"
   ]
  },
  {
   "cell_type": "markdown",
   "metadata": {},
   "source": [
    "# Checking distributions of synthetic data"
   ]
  },
  {
   "cell_type": "code",
   "execution_count": 86,
   "metadata": {},
   "outputs": [],
   "source": [
    "generated_df = generate_samples(number_of_samples_to_generate)\n",
    "df = df[df.label == 1]"
   ]
  },
  {
   "cell_type": "code",
   "execution_count": null,
   "metadata": {
    "scrolled": false
   },
   "outputs": [],
   "source": [
    "fig, axes = plt.subplots(7, 1, figsize=(15, 50))\n",
    "\n",
    "for n, col in enumerate(df.columns.to_list()[:-1]):\n",
    "    ax1 = plt.subplot(7,1, n+1)\n",
    "    sns.distplot(x = generated_df[col], color = 'red', label = 'Generated')\n",
    "    sns.distplot(x = df[col], color = 'blue', label = 'real')\n",
    "    plt.legend()\n",
    "    plt.xlabel(col, fontsize = 30)\n",
    "    plt.title(col, fontsize = 30)\n",
    "    plt.ylabel(' ')\n",
    "\n",
    "plt.subplots_adjust(wspace=0.3,hspace=0.3)"
   ]
  },
  {
   "cell_type": "code",
   "execution_count": null,
   "metadata": {},
   "outputs": [],
   "source": []
  }
 ],
 "metadata": {
  "accelerator": "GPU",
  "colab": {
   "collapsed_sections": [],
   "provenance": []
  },
  "gpuClass": "standard",
  "kernelspec": {
   "display_name": "Python 3",
   "language": "python",
   "name": "python3"
  },
  "language_info": {
   "codemirror_mode": {
    "name": "ipython",
    "version": 3
   },
   "file_extension": ".py",
   "mimetype": "text/x-python",
   "name": "python",
   "nbconvert_exporter": "python",
   "pygments_lexer": "ipython3",
   "version": "3.8.8"
  }
 },
 "nbformat": 4,
 "nbformat_minor": 1
}
